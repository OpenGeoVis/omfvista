{
  "cells": [
    {
      "cell_type": "code",
      "execution_count": null,
      "metadata": {
        "collapsed": false
      },
      "outputs": [],
      "source": [
        "%matplotlib inline"
      ]
    },
    {
      "cell_type": "markdown",
      "metadata": {},
      "source": [
        "\nFORGE Project\n-------------\n\nLoad an example OMF archive of a geothermal research site.\n\n\nData from `FORGE geothermal research Site <https://utahforge.com/>`_\n\n\n"
      ]
    },
    {
      "cell_type": "code",
      "execution_count": null,
      "metadata": {
        "collapsed": false
      },
      "outputs": [],
      "source": [
        "import pyvista as pv\nimport omfvista\n\n# Download the data and load!\nproject = omfvista.download_forge_example()\nproject"
      ]
    },
    {
      "cell_type": "markdown",
      "metadata": {},
      "source": [
        "Now we can go ahead and create an integrated visualization of all of the\ndata available to in the ``project`` :class:`pyvista.MultiBlock` container.\nAll we have to do is index the ``project`` container by the name of the\ndataset that we want to acess. We can then pass those meshes to the\n:class:`pyvista.Plotter`'s ``add_mesh`` method with keyword arguments for how\nwe want it displayed (e.g. color, opacity, etc.).\n\n"
      ]
    },
    {
      "cell_type": "code",
      "execution_count": null,
      "metadata": {
        "collapsed": false
      },
      "outputs": [],
      "source": [
        "p = pv.Plotter()\np.add_mesh(project[\"Site Boundary\"], line_width=5,\n           color=\"yellow\", render_lines_as_tubes=True)\np.add_mesh(project[\"Terrain\"],\n           texture=\"geo_aer\", opacity=0.7, lighting=False)\np.add_mesh(project[\"Opal Mound Fault\"],\n           color=\"brown\", opacity=0.7)\np.add_mesh(project[\"Negro Mag Fault\"],\n           color=\"lightblue\", opacity=0.7)\np.add_mesh(project[\"Observed Temperature\"],\n           cmap=\"coolwarm\", clim=[10,270], point_size=10,\n           render_points_as_spheres=True)\n\np.enable_anti_aliasing()\np.enable_depth_peeling()\np.camera_position = [(315661.9406719345, 4234675.528454831, 15167.291249498076),\n                     (337498.00521202036, 4260818.504034578, -1261.5688408692681),\n                     (0.2708862567924439, 0.3397398234107863, 0.9006650255615491)]\np.show()"
      ]
    },
    {
      "cell_type": "code",
      "execution_count": null,
      "metadata": {
        "collapsed": false
      },
      "outputs": [],
      "source": [
        "p = pv.Plotter()\np.add_mesh(project[\"Site Boundary\"], line_width=5,\n           color=\"yellow\", render_lines_as_tubes=True)\np.add_mesh(project[\"Terrain\"],\n           texture=\"geo_aer\", opacity=0.7, lighting=False)\np.add_mesh(project[\"Opal Mound Fault\"],\n           color=\"brown\", opacity=0.7)\np.add_mesh(project[\"Negro Mag Fault\"],\n           color=\"lightblue\", opacity=0.7)\np.add_mesh(project[\"Observed Gravity\"],\n           render_points_as_spheres=True)\n\np.enable_anti_aliasing()\np.enable_depth_peeling()\np.camera_position = [(315661.9406719345, 4234675.528454831, 15167.291249498076),\n                     (337498.00521202036, 4260818.504034578, -1261.5688408692681),\n                     (0.2708862567924439, 0.3397398234107863, 0.9006650255615491)]\np.show()"
      ]
    },
    {
      "cell_type": "code",
      "execution_count": null,
      "metadata": {
        "collapsed": false
      },
      "outputs": [],
      "source": [
        "p = pv.Plotter()\np.add_mesh(project[\"Site Boundary\"], line_width=5,\n           color=\"yellow\", render_lines_as_tubes=True)\np.add_mesh(project[\"Terrain\"],\n           color=True, opacity=0.7, lighting=False)\np.add_mesh(project[\"Opal Mound Fault\"],\n           color=\"brown\", opacity=0.7)\np.add_mesh(project[\"Negro Mag Fault\"],\n           color=\"lightblue\", opacity=0.7)\np.add_mesh(project[\"Top of Basement\"])\n\np.enable_anti_aliasing()\np.enable_depth_peeling()\np.camera_position = [(315661.9406719345, 4234675.528454831, 15167.291249498076),\n                     (337498.00521202036, 4260818.504034578, -1261.5688408692681),\n                     (0.2708862567924439, 0.3397398234107863, 0.9006650255615491)]\np.show()"
      ]
    }
  ],
  "metadata": {
    "kernelspec": {
      "display_name": "Python 3",
      "language": "python",
      "name": "python3"
    },
    "language_info": {
      "codemirror_mode": {
        "name": "ipython",
        "version": 3
      },
      "file_extension": ".py",
      "mimetype": "text/x-python",
      "name": "python",
      "nbconvert_exporter": "python",
      "pygments_lexer": "ipython3",
      "version": "3.6.7"
    }
  },
  "nbformat": 4,
  "nbformat_minor": 0
}