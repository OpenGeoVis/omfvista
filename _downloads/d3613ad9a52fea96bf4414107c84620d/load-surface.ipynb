{
  "cells": [
    {
      "cell_type": "code",
      "execution_count": null,
      "metadata": {
        "collapsed": false
      },
      "outputs": [],
      "source": [
        "%matplotlib inline"
      ]
    },
    {
      "cell_type": "markdown",
      "metadata": {},
      "source": [
        "\nLoad Surface from XYZ File\n--------------------------\n\nLoad a surface from a file of XYZ coordinates\n\n"
      ]
    },
    {
      "cell_type": "code",
      "execution_count": null,
      "metadata": {
        "collapsed": false
      },
      "outputs": [],
      "source": [
        "# sphinx_gallery_thumbnail_number = 2\nimport pandas as pd\nimport omf\nimport omfvista\nimport pyvista as pv\nimport numpy as np"
      ]
    },
    {
      "cell_type": "code",
      "execution_count": null,
      "metadata": {
        "collapsed": false
      },
      "outputs": [],
      "source": [
        "base_quaternary_df = pd.read_csv('../assets/mod_base_quaternary_300_nan.txt')\nprint(base_quaternary_df.head())"
      ]
    },
    {
      "cell_type": "markdown",
      "metadata": {},
      "source": [
        "Create a ``pyvista`` dataset out of the coordinates\n\n"
      ]
    },
    {
      "cell_type": "code",
      "execution_count": null,
      "metadata": {
        "collapsed": false
      },
      "outputs": [],
      "source": [
        "x = base_quaternary_df['x'].values\ny = base_quaternary_df['y'].values\nz = np.zeros_like(x)\n# simply pass the numpy points to the PolyData constructor\ncloud = pv.PolyData(np.c_[x,y,z])\n# Add data values onto the mesh nodes\ncloud['my data'] = base_quaternary_df['z'].values"
      ]
    },
    {
      "cell_type": "markdown",
      "metadata": {},
      "source": [
        "Make a surface using the delaunay filter\n\n"
      ]
    },
    {
      "cell_type": "code",
      "execution_count": null,
      "metadata": {
        "collapsed": false
      },
      "outputs": [],
      "source": [
        "surf = cloud.delaunay_2d()\nsurf.plot()"
      ]
    },
    {
      "cell_type": "markdown",
      "metadata": {},
      "source": [
        "Now warp by a scalar to have a more realistic surface\nNote the scaling factor that exagerates the surface\n\n"
      ]
    },
    {
      "cell_type": "code",
      "execution_count": null,
      "metadata": {
        "collapsed": false
      },
      "outputs": [],
      "source": [
        "warped = surf.warp_by_scalar(factor=5.0)\nwarped.plot()"
      ]
    },
    {
      "cell_type": "markdown",
      "metadata": {},
      "source": [
        "Create an OMF element that can be saved out\n\n"
      ]
    },
    {
      "cell_type": "code",
      "execution_count": null,
      "metadata": {
        "collapsed": false
      },
      "outputs": [],
      "source": [
        "tris = warped.faces.reshape(surf.n_cells, 4)[:, 1:4]\nbase_quaternary_omf = omf.SurfaceElement(\n    name='My Surface',\n    description='This is a decription of \"My Surface\"',\n    geometry=omf.SurfaceGeometry(vertices=warped.points,\n                                 triangles=tris),\n    data=[\n        omf.ScalarData(\n            name='My awesome data',\n            array=np.array(surf['my data']),\n            location='vertices'\n        ),\n    ],\n\n    )\nbase_quaternary_omf.validate()"
      ]
    },
    {
      "cell_type": "markdown",
      "metadata": {},
      "source": [
        "Sanity check\n\n"
      ]
    },
    {
      "cell_type": "code",
      "execution_count": null,
      "metadata": {
        "collapsed": false
      },
      "outputs": [],
      "source": [
        "omfvista.wrap(base_quaternary_omf).plot()"
      ]
    }
  ],
  "metadata": {
    "kernelspec": {
      "display_name": "Python 3",
      "language": "python",
      "name": "python3"
    },
    "language_info": {
      "codemirror_mode": {
        "name": "ipython",
        "version": 3
      },
      "file_extension": ".py",
      "mimetype": "text/x-python",
      "name": "python",
      "nbconvert_exporter": "python",
      "pygments_lexer": "ipython3",
      "version": "3.6.7"
    }
  },
  "nbformat": 4,
  "nbformat_minor": 0
}