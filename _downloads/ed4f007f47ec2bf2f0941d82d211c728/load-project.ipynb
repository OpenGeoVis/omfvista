{
  "cells": [
    {
      "cell_type": "code",
      "execution_count": null,
      "metadata": {
        "collapsed": false
      },
      "outputs": [],
      "source": [
        "%matplotlib inline"
      ]
    },
    {
      "cell_type": "markdown",
      "metadata": {},
      "source": [
        "\n# Load Project\n\nLoad and visualize an OMF project file\n"
      ]
    },
    {
      "cell_type": "code",
      "execution_count": null,
      "metadata": {
        "collapsed": false
      },
      "outputs": [],
      "source": [
        "# sphinx_gallery_thumbnail_number = 3\nimport pyvista as pv\nimport omfvista"
      ]
    },
    {
      "cell_type": "markdown",
      "metadata": {},
      "source": [
        "Load the project into an :class:`pyvista.MultiBlock` dataset\n\n"
      ]
    },
    {
      "cell_type": "code",
      "execution_count": null,
      "metadata": {
        "collapsed": false
      },
      "outputs": [],
      "source": [
        "project = omfvista.load_project('../assets/test_file.omf')\nprint(project)"
      ]
    },
    {
      "cell_type": "markdown",
      "metadata": {},
      "source": [
        "Once the data is loaded as a :class:`pyvista.MultiBlock` dataset from\n``omfvista``, then that object can be directly used for interactive 3D\nvisualization from ``pyvista``:\n\n"
      ]
    },
    {
      "cell_type": "code",
      "execution_count": null,
      "metadata": {
        "collapsed": false
      },
      "outputs": [],
      "source": [
        "project.plot()"
      ]
    },
    {
      "cell_type": "markdown",
      "metadata": {},
      "source": [
        "Or an interactive scene can be created and manipulated to create a compelling\nfigure directly in a Jupyter notebook. First, grab the elements from the\nproject:\n\n"
      ]
    },
    {
      "cell_type": "code",
      "execution_count": null,
      "metadata": {
        "collapsed": false
      },
      "outputs": [],
      "source": [
        "# Grab a few elements of interest and plot em up!\nvol = project['Block Model']\nassay = project['wolfpass_WP_assay']\ntopo = project['Topography']\ndacite = project['Dacite']"
      ]
    },
    {
      "cell_type": "code",
      "execution_count": null,
      "metadata": {
        "collapsed": false
      },
      "outputs": [],
      "source": [
        "assay.set_active_scalars('DENSITY')\n\np = pv.Plotter()\np.add_mesh(assay.tube(radius=3))\np.add_mesh(topo, opacity=0.5)\np.show()"
      ]
    },
    {
      "cell_type": "markdown",
      "metadata": {},
      "source": [
        "Then apply a filtering tool from ``pyvista`` to the volumetric data:\n\n"
      ]
    },
    {
      "cell_type": "code",
      "execution_count": null,
      "metadata": {
        "collapsed": false
      },
      "outputs": [],
      "source": [
        "# Threshold the volumetric data\nthresh_vol = vol.threshold([1.09, 4.20])\nprint(thresh_vol)"
      ]
    },
    {
      "cell_type": "markdown",
      "metadata": {},
      "source": [
        "Then you can put it all in one environment!\n\n"
      ]
    },
    {
      "cell_type": "code",
      "execution_count": null,
      "metadata": {
        "collapsed": false
      },
      "outputs": [],
      "source": [
        "# Create a plotting window\np = pv.Plotter()\n# Add the bounds axis\np.show_bounds()\np.add_bounding_box()\n\n# Add our datasets\np.add_mesh(topo, opacity=0.5)\np.add_mesh(dacite, color='orange', opacity=0.6,)\np.add_mesh(thresh_vol, cmap='coolwarm', clim=vol.get_data_range())\n\n# Add the assay logs: use a tube filter that varius the radius by an attribute\np.add_mesh(assay.tube(radius=3), cmap='viridis')\n\np.show()"
      ]
    }
  ],
  "metadata": {
    "kernelspec": {
      "display_name": "Python 3",
      "language": "python",
      "name": "python3"
    },
    "language_info": {
      "codemirror_mode": {
        "name": "ipython",
        "version": 3
      },
      "file_extension": ".py",
      "mimetype": "text/x-python",
      "name": "python",
      "nbconvert_exporter": "python",
      "pygments_lexer": "ipython3",
      "version": "3.9.14"
    }
  },
  "nbformat": 4,
  "nbformat_minor": 0
}