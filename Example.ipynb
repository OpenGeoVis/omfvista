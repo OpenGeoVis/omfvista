{
 "cells": [
  {
   "cell_type": "markdown",
   "metadata": {},
   "source": [
    "# Using OMF-VTK Interfact\n",
    "\n",
    "This notebook demos how to load [OMF](https://omf.readthedocs.io/en/latest/) project files into VTK data objects. These data objects are converted using the [`omfvtk` Python package](https://github.com/OpenGeoVis/omfvtk) and visualized using [`vtki`](https://github.com/akaszynski/vtki).\n",
    "\n",
    "This requires:\n",
    "\n",
    "- `pip install omfvtk`"
   ]
  },
  {
   "cell_type": "code",
   "execution_count": 1,
   "metadata": {},
   "outputs": [],
   "source": [
    "import omfvtk\n",
    "import vtki"
   ]
  },
  {
   "cell_type": "markdown",
   "metadata": {},
   "source": [
    "## Open an OMF Project file\n",
    "\n",
    "The file given is a simple file from the [OMF Python package repository](https://github.com/gmggroup/omf/tree/master/assets). PVGeo opens the project and returns all elements of the Project as a `vtki.MultiBlock` data object that can be used for eay access and plotting."
   ]
  },
  {
   "cell_type": "code",
   "execution_count": 2,
   "metadata": {},
   "outputs": [
    {
     "data": {
      "text/html": [
       "<table><tr><th>Information</th><th>Blocks</th></tr><tr><td>\n",
       "<table>\n",
       "<tr><th>vtkMultiBlockDataSet</th><th>Values</th></tr>\n",
       "<tr><td>N Blocks</td><td>9</td></tr>\n",
       "<tr><td>X Bounds</td><td>443941.105, 447059.611</td></tr>\n",
       "<tr><td>Y Bounds</td><td>491941.536, 495059.859</td></tr>\n",
       "<tr><td>Z Bounds</td><td>2330.000, 3555.942</td></tr>\n",
       "</table>\n",
       "\n",
       "</td><td>\n",
       "<table>\n",
       "<tr><th>Index</th><th>Name</th><th>Type</th></tr>\n",
       "<tr><th>0</th><th>collar</th><th>vtkPolyData</th></tr>\n",
       "<tr><th>1</th><th>wolfpass_WP_assay</th><th>vtkPolyData</th></tr>\n",
       "<tr><th>2</th><th>Topography</th><th>vtkUnstructuredGrid</th></tr>\n",
       "<tr><th>3</th><th>Basement</th><th>vtkUnstructuredGrid</th></tr>\n",
       "<tr><th>4</th><th>Early Diorite</th><th>vtkUnstructuredGrid</th></tr>\n",
       "<tr><th>5</th><th>Intermineral diorite</th><th>vtkUnstructuredGrid</th></tr>\n",
       "<tr><th>6</th><th>Dacite</th><th>vtkUnstructuredGrid</th></tr>\n",
       "<tr><th>7</th><th>Cover</th><th>vtkUnstructuredGrid</th></tr>\n",
       "<tr><th>8</th><th>Block Model</th><th>vtkRectilinearGrid</th></tr>\n",
       "</table>\n",
       "\n",
       "</td></tr> </table>"
      ],
      "text/plain": [
       "(MultiBlock)0x10cf3c588"
      ]
     },
     "execution_count": 2,
     "metadata": {},
     "output_type": "execute_result"
    }
   ],
   "source": [
    "proj = omfvtk.load_project('assets/test_file.omf')\n",
    "proj"
   ]
  },
  {
   "cell_type": "markdown",
   "metadata": {},
   "source": [
    "## Visualize the Project"
   ]
  },
  {
   "cell_type": "code",
   "execution_count": 3,
   "metadata": {},
   "outputs": [],
   "source": [
    "# NBVAL_SKIP\n",
    "# view all of it in 3D\n",
    "# proj.plot(notebook=False)"
   ]
  },
  {
   "cell_type": "code",
   "execution_count": 4,
   "metadata": {},
   "outputs": [],
   "source": [
    "# Grab a few elements of interest and plot em up!\n",
    "assay = proj['wolfpass_WP_assay']\n",
    "topo = proj['Topography']\n",
    "dacite = proj['Dacite']\n",
    "vol = proj['Block Model']"
   ]
  },
  {
   "cell_type": "code",
   "execution_count": 5,
   "metadata": {},
   "outputs": [
    {
     "data": {
      "application/vnd.jupyter.widget-view+json": {
       "model_id": "c21865122ea04ee0aee874f4241d883f",
       "version_major": 2,
       "version_minor": 0
      },
      "text/plain": [
       "interactive(children=(FloatSlider(value=1.0880420223950078, continuous_update=False, description='dmin', max=5…"
      ]
     },
     "metadata": {},
     "output_type": "display_data"
    }
   ],
   "source": [
    "# NBVAL_SKIP\n",
    "thresher = vtki.Threshold(vol, display_params={'show_edges':False})"
   ]
  },
  {
   "cell_type": "code",
   "execution_count": 6,
   "metadata": {},
   "outputs": [
    {
     "data": {
      "text/plain": [
       "(vtkRenderingAnnotationPython.vtkCubeAxesActor)0x127df3a08"
      ]
     },
     "execution_count": 6,
     "metadata": {},
     "output_type": "execute_result"
    }
   ],
   "source": [
    "# NBVAL_SKIP\n",
    "# Grab the active plotting window\n",
    "#  from the thresher tool\n",
    "p = thresher.plotter\n",
    "# Add our datasets\n",
    "p.add_mesh(topo, cmap='gist_earth', show_edges=False, opacity=0.5)\n",
    "p.add_mesh(assay, color='blue', line_width=3)\n",
    "p.add_mesh(dacite, show_edges=False, color='yellow', opacity=0.6)\n",
    "# Add the bounds axis\n",
    "p.add_bounds_axes()"
   ]
  },
  {
   "cell_type": "code",
   "execution_count": 7,
   "metadata": {},
   "outputs": [],
   "source": [
    "# NBVAL_SKIP\n",
    "# Save a screenshot!\n",
    "# p.screenshot('wolfpass.png')"
   ]
  },
  {
   "cell_type": "code",
   "execution_count": null,
   "metadata": {},
   "outputs": [],
   "source": []
  }
 ],
 "metadata": {
  "kernelspec": {
   "display_name": "Python [conda env:ogv]",
   "language": "python",
   "name": "conda-env-ogv-py"
  },
  "language_info": {
   "codemirror_mode": {
    "name": "ipython",
    "version": 3
   },
   "file_extension": ".py",
   "mimetype": "text/x-python",
   "name": "python",
   "nbconvert_exporter": "python",
   "pygments_lexer": "ipython3",
   "version": "3.6.5"
  }
 },
 "nbformat": 4,
 "nbformat_minor": 2
}
