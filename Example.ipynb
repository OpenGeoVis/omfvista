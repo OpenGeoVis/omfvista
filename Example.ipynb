{
 "cells": [
  {
   "cell_type": "markdown",
   "metadata": {},
   "source": [
    "# Using OMF-VTK Interfact\n",
    "\n",
    "This notebook demos how to load [OMF](https://omf.readthedocs.io/en/latest/) project files into VTK data objects. These data objects are converted using the [`omfvtk` Python package](https://github.com/OpenGeoVis/omfvtk) and visualized using [`vtki`](https://github.com/akaszynski/vtki).\n",
    "\n",
    "This requires:\n",
    "\n",
    "- `pip install 'omfvtk>=0.0.4'`"
   ]
  },
  {
   "cell_type": "code",
   "execution_count": 1,
   "metadata": {},
   "outputs": [],
   "source": [
    "import omfvtk\n",
    "import vtki"
   ]
  },
  {
   "cell_type": "markdown",
   "metadata": {},
   "source": [
    "## Open an OMF Project file\n",
    "\n",
    "The file given is a simple file from the [OMF Python package repository](https://github.com/gmggroup/omf/tree/master/assets). PVGeo opens the project and returns all elements of the Project as a `vtki.MultiBlock` data object that can be used for eay access and plotting."
   ]
  },
  {
   "cell_type": "code",
   "execution_count": 2,
   "metadata": {},
   "outputs": [
    {
     "data": {
      "text/html": [
       "<table><tr><th>Information</th><th>Blocks</th></tr><tr><td>\n",
       "<table>\n",
       "<tr><th>vtkMultiBlockDataSet</th><th>Values</th></tr>\n",
       "<tr><td>N Blocks</td><td>9</td></tr>\n",
       "<tr><td>X Bounds</td><td>443941.105, 447059.611</td></tr>\n",
       "<tr><td>Y Bounds</td><td>491941.536, 495059.859</td></tr>\n",
       "<tr><td>Z Bounds</td><td>2330.000, 3555.942</td></tr>\n",
       "</table>\n",
       "\n",
       "</td><td>\n",
       "<table>\n",
       "<tr><th>Index</th><th>Name</th><th>Type</th></tr>\n",
       "<tr><th>0</th><th>collar</th><th>vtkPolyData</th></tr>\n",
       "<tr><th>1</th><th>wolfpass_WP_assay</th><th>vtkPolyData</th></tr>\n",
       "<tr><th>2</th><th>Topography</th><th>vtkUnstructuredGrid</th></tr>\n",
       "<tr><th>3</th><th>Basement</th><th>vtkUnstructuredGrid</th></tr>\n",
       "<tr><th>4</th><th>Early Diorite</th><th>vtkUnstructuredGrid</th></tr>\n",
       "<tr><th>5</th><th>Intermineral diorite</th><th>vtkUnstructuredGrid</th></tr>\n",
       "<tr><th>6</th><th>Dacite</th><th>vtkUnstructuredGrid</th></tr>\n",
       "<tr><th>7</th><th>Cover</th><th>vtkUnstructuredGrid</th></tr>\n",
       "<tr><th>8</th><th>Block Model</th><th>vtkRectilinearGrid</th></tr>\n",
       "</table>\n",
       "\n",
       "</td></tr> </table>"
      ],
      "text/plain": [
       "(MultiBlock)0x11ec1f1c8"
      ]
     },
     "execution_count": 2,
     "metadata": {},
     "output_type": "execute_result"
    }
   ],
   "source": [
    "proj = omfvtk.load_project('assets/test_file.omf')\n",
    "proj"
   ]
  },
  {
   "cell_type": "markdown",
   "metadata": {},
   "source": [
    "## Visualize the Project"
   ]
  },
  {
   "cell_type": "code",
   "execution_count": 3,
   "metadata": {},
   "outputs": [],
   "source": [
    "# view all of it in 3D\n",
    "# proj.plot(notebook=False)"
   ]
  },
  {
   "cell_type": "code",
   "execution_count": 11,
   "metadata": {},
   "outputs": [
    {
     "data": {
      "application/vnd.jupyter.widget-view+json": {
       "model_id": "14e52a8809ec493f9d632072d959ae02",
       "version_major": 2,
       "version_minor": 0
      },
      "text/plain": [
       "interactive(children=(FloatSlider(value=1.0880420223950078, continuous_update=False, description='dmin', max=5…"
      ]
     },
     "metadata": {},
     "output_type": "display_data"
    },
    {
     "data": {
      "text/plain": [
       "<vtki.ipy_tools.Threshold at 0x12d8ccfd0>"
      ]
     },
     "execution_count": 11,
     "metadata": {},
     "output_type": "execute_result"
    }
   ],
   "source": [
    "vol = proj['Block Model']\n",
    "vtki.Threshold(vol)"
   ]
  },
  {
   "cell_type": "code",
   "execution_count": null,
   "metadata": {},
   "outputs": [],
   "source": []
  },
  {
   "cell_type": "code",
   "execution_count": 5,
   "metadata": {},
   "outputs": [],
   "source": [
    "# Grab a few elements of interest and plot em up!\n",
    "assay = proj['wolfpass_WP_assay']\n",
    "topo = proj['Topography']\n",
    "dacite = proj['Dacite']"
   ]
  },
  {
   "cell_type": "code",
   "execution_count": 7,
   "metadata": {},
   "outputs": [
    {
     "ename": "Exception",
     "evalue": "Plotter already has an axes widget",
     "output_type": "error",
     "traceback": [
      "\u001b[0;31m---------------------------------------------------------------------------\u001b[0m",
      "\u001b[0;31mException\u001b[0m                                 Traceback (most recent call last)",
      "\u001b[0;32m<ipython-input-7-7af841790e22>\u001b[0m in \u001b[0;36m<module>\u001b[0;34m()\u001b[0m\n\u001b[1;32m      7\u001b[0m \u001b[0mp\u001b[0m\u001b[0;34m.\u001b[0m\u001b[0madd_mesh\u001b[0m\u001b[0;34m(\u001b[0m\u001b[0mdacite\u001b[0m\u001b[0;34m,\u001b[0m \u001b[0mshowedges\u001b[0m\u001b[0;34m=\u001b[0m\u001b[0;32mFalse\u001b[0m\u001b[0;34m,\u001b[0m \u001b[0mcolor\u001b[0m\u001b[0;34m=\u001b[0m\u001b[0;34m'yellow'\u001b[0m\u001b[0;34m,\u001b[0m \u001b[0mopacity\u001b[0m\u001b[0;34m=\u001b[0m\u001b[0;36m0.6\u001b[0m\u001b[0;34m)\u001b[0m\u001b[0;34m\u001b[0m\u001b[0m\n\u001b[1;32m      8\u001b[0m \u001b[0;34m\u001b[0m\u001b[0m\n\u001b[0;32m----> 9\u001b[0;31m \u001b[0mp\u001b[0m\u001b[0;34m.\u001b[0m\u001b[0madd_axes\u001b[0m\u001b[0;34m(\u001b[0m\u001b[0;34m)\u001b[0m\u001b[0;34m\u001b[0m\u001b[0m\n\u001b[0m\u001b[1;32m     10\u001b[0m \u001b[0mp\u001b[0m\u001b[0;34m.\u001b[0m\u001b[0madd_bounds_axes\u001b[0m\u001b[0;34m(\u001b[0m\u001b[0mtopo\u001b[0m\u001b[0;34m)\u001b[0m\u001b[0;34m\u001b[0m\u001b[0m\n\u001b[1;32m     11\u001b[0m \u001b[0;34m\u001b[0m\u001b[0m\n",
      "\u001b[0;32m~/Documents/OpenGeoVis/Software/vtki/vtki/plotting.py\u001b[0m in \u001b[0;36madd_axes\u001b[0;34m(self, interactive)\u001b[0m\n\u001b[1;32m    342\u001b[0m         \u001b[0;34m\"\"\" Add an interactive axes widget \"\"\"\u001b[0m\u001b[0;34m\u001b[0m\u001b[0m\n\u001b[1;32m    343\u001b[0m         \u001b[0;32mif\u001b[0m \u001b[0mhasattr\u001b[0m\u001b[0;34m(\u001b[0m\u001b[0mself\u001b[0m\u001b[0;34m,\u001b[0m \u001b[0;34m'axes_widget'\u001b[0m\u001b[0;34m)\u001b[0m\u001b[0;34m:\u001b[0m\u001b[0;34m\u001b[0m\u001b[0m\n\u001b[0;32m--> 344\u001b[0;31m             \u001b[0;32mraise\u001b[0m \u001b[0mException\u001b[0m\u001b[0;34m(\u001b[0m\u001b[0;34m'Plotter already has an axes widget'\u001b[0m\u001b[0;34m)\u001b[0m\u001b[0;34m\u001b[0m\u001b[0m\n\u001b[0m\u001b[1;32m    345\u001b[0m         \u001b[0mself\u001b[0m\u001b[0;34m.\u001b[0m\u001b[0maxes_actor\u001b[0m \u001b[0;34m=\u001b[0m \u001b[0mvtk\u001b[0m\u001b[0;34m.\u001b[0m\u001b[0mvtkAxesActor\u001b[0m\u001b[0;34m(\u001b[0m\u001b[0;34m)\u001b[0m\u001b[0;34m\u001b[0m\u001b[0m\n\u001b[1;32m    346\u001b[0m         \u001b[0mself\u001b[0m\u001b[0;34m.\u001b[0m\u001b[0maxes_widget\u001b[0m \u001b[0;34m=\u001b[0m \u001b[0mvtk\u001b[0m\u001b[0;34m.\u001b[0m\u001b[0mvtkOrientationMarkerWidget\u001b[0m\u001b[0;34m(\u001b[0m\u001b[0;34m)\u001b[0m\u001b[0;34m\u001b[0m\u001b[0m\n",
      "\u001b[0;31mException\u001b[0m: Plotter already has an axes widget"
     ]
    }
   ],
   "source": [
    "# NOTE: to plot interactively, change `notebook=False`\n",
    "p = vtki.BackgroundPlotter()#Plotter(notebook=False)\n",
    "\n",
    "p.add_mesh(topo, colormap='gist_earth', showedges=False, opacity=0.5)\n",
    "p.add_mesh(assay, color='blue', linethick=3)\n",
    "p.add_mesh(thresh, showedges=False, rng=rng, colormap='jet')\n",
    "p.add_mesh(dacite, showedges=False, color='yellow', opacity=0.6)\n",
    "\n",
    "# p.add_axes()\n",
    "p.add_bounds_axes(topo)\n",
    "\n",
    "#result = p.plot()#screenshot='wolfpass.png')"
   ]
  },
  {
   "cell_type": "code",
   "execution_count": 9,
   "metadata": {},
   "outputs": [
    {
     "data": {
      "text/plain": [
       "array([[[76, 76, 76],\n",
       "        [76, 76, 76],\n",
       "        [76, 76, 76],\n",
       "        ...,\n",
       "        [76, 76, 76],\n",
       "        [76, 76, 76],\n",
       "        [76, 76, 76]],\n",
       "\n",
       "       [[76, 76, 76],\n",
       "        [76, 76, 76],\n",
       "        [76, 76, 76],\n",
       "        ...,\n",
       "        [76, 76, 76],\n",
       "        [76, 76, 76],\n",
       "        [76, 76, 76]],\n",
       "\n",
       "       [[76, 76, 76],\n",
       "        [76, 76, 76],\n",
       "        [76, 76, 76],\n",
       "        ...,\n",
       "        [76, 76, 76],\n",
       "        [76, 76, 76],\n",
       "        [76, 76, 76]],\n",
       "\n",
       "       ...,\n",
       "\n",
       "       [[76, 76, 76],\n",
       "        [76, 76, 76],\n",
       "        [76, 76, 76],\n",
       "        ...,\n",
       "        [76, 76, 76],\n",
       "        [76, 76, 76],\n",
       "        [76, 76, 76]],\n",
       "\n",
       "       [[76, 76, 76],\n",
       "        [76, 76, 76],\n",
       "        [76, 76, 76],\n",
       "        ...,\n",
       "        [76, 76, 76],\n",
       "        [76, 76, 76],\n",
       "        [76, 76, 76]],\n",
       "\n",
       "       [[76, 76, 76],\n",
       "        [76, 76, 76],\n",
       "        [76, 76, 76],\n",
       "        ...,\n",
       "        [76, 76, 76],\n",
       "        [76, 76, 76],\n",
       "        [76, 76, 76]]], dtype=uint8)"
      ]
     },
     "execution_count": 9,
     "metadata": {},
     "output_type": "execute_result"
    }
   ],
   "source": [
    "p.screenshot('wolfpass.png')"
   ]
  },
  {
   "cell_type": "code",
   "execution_count": null,
   "metadata": {},
   "outputs": [],
   "source": []
  }
 ],
 "metadata": {
  "kernelspec": {
   "display_name": "Python [conda env:ogv]",
   "language": "python",
   "name": "conda-env-ogv-py"
  },
  "language_info": {
   "codemirror_mode": {
    "name": "ipython",
    "version": 3
   },
   "file_extension": ".py",
   "mimetype": "text/x-python",
   "name": "python",
   "nbconvert_exporter": "python",
   "pygments_lexer": "ipython3",
   "version": "3.6.5"
  }
 },
 "nbformat": 4,
 "nbformat_minor": 2
}
