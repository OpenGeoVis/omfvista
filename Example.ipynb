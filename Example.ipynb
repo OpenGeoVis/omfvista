{
 "cells": [
  {
   "cell_type": "markdown",
   "metadata": {},
   "source": [
    "# Using OMF-VTK Interface\n",
    "\n",
    "This notebook demos how to load [OMF](https://omf.readthedocs.io/en/latest/) project files into `pyvista` data objects. These data objects are converted using the [`omfvista` Python package](https://github.com/OpenGeoVis/omfvista) and visualized using [`pyvista`](https://github.com/pyvista/pyvista).\n",
    "\n",
    "This requires:\n",
    "\n",
    "- `pip install omfvista`\n",
    "\n",
    "-----\n",
    "\n",
    "**For more examples like this notebook and to learn more about the supporting 3D visualization software used here, please head over to `pyvista`'s [example gallery](https://docs.pyvista.org/examples/index.html)**\n",
    "\n",
    "\n",
    "### Author\n",
    "\n",
    "This notebook was created by [Bane Sullivan](http://banesullivan.com) - follow Bane on Twitter for more 3D viz examples like this: \n",
    "<a href=\"https://twitter.com/banesullivan?ref_src=twsrc%5Etfw\" class=\"twitter-follow-button\" data-size=\"large\" data-show-count=\"false\">Follow @banesullivan</a><script async src=\"https://platform.twitter.com/widgets.js\" charset=\"utf-8\"></script>"
   ]
  },
  {
   "cell_type": "code",
   "execution_count": null,
   "metadata": {},
   "outputs": [],
   "source": [
    "import omfvista\n",
    "import pyvista"
   ]
  },
  {
   "cell_type": "markdown",
   "metadata": {},
   "source": [
    "## Open an OMF Project file\n",
    "\n",
    "The file given is a simple file from the [OMF Python package repository](https://github.com/gmggroup/omf/tree/master/assets). `omfvista` opens the project and returns all elements of the Project as a `pyvista.MultiBlock` data object that can be used for eay access and plotting."
   ]
  },
  {
   "cell_type": "code",
   "execution_count": null,
   "metadata": {},
   "outputs": [],
   "source": [
    "proj = omfvista.load_project('../assets/test_file.omf')\n",
    "proj"
   ]
  },
  {
   "cell_type": "markdown",
   "metadata": {},
   "source": [
    "## Visualize the Project"
   ]
  },
  {
   "cell_type": "code",
   "execution_count": null,
   "metadata": {},
   "outputs": [],
   "source": [
    "# view all of it in 3D\n",
    "proj.plot(multi_colors=True)"
   ]
  },
  {
   "cell_type": "code",
   "execution_count": null,
   "metadata": {},
   "outputs": [],
   "source": [
    "# Grab a few elements of interest and plot em up!\n",
    "assay = proj['wolfpass_WP_assay']\n",
    "topo = proj['Topography']\n",
    "dacite = proj['Dacite']\n",
    "vol = proj['Block Model']"
   ]
  },
  {
   "cell_type": "code",
   "execution_count": null,
   "metadata": {},
   "outputs": [],
   "source": [
    "assay.set_active_scalar('DENSITY')\n",
    "assay"
   ]
  },
  {
   "cell_type": "code",
   "execution_count": null,
   "metadata": {},
   "outputs": [],
   "source": [
    "p = pyvista.Plotter()\n",
    "p.add_mesh(assay.tube(radius=3))\n",
    "p.add_mesh(topo, opacity=0.5)\n",
    "p.show()"
   ]
  },
  {
   "cell_type": "markdown",
   "metadata": {},
   "source": [
    "Extract a subset of the volumetric model based on a scalar range"
   ]
  },
  {
   "cell_type": "code",
   "execution_count": null,
   "metadata": {},
   "outputs": [],
   "source": [
    "# Threshold the volumetric data\n",
    "thresh_vol = vol.threshold([1.09, 4.20])\n",
    "thresh_vol"
   ]
  },
  {
   "cell_type": "code",
   "execution_count": null,
   "metadata": {},
   "outputs": [],
   "source": [
    "# Create a plotting window\n",
    "p = pyvista.Plotter()\n",
    "# Add the bounds axis\n",
    "p.show_bounds()\n",
    "# p.add_bounding_box()\n",
    "\n",
    "# Add our datasets\n",
    "p.add_mesh(topo, opacity=0.5)\n",
    "p.add_mesh(dacite, color='orange', opacity=0.6,)\n",
    "p.add_mesh(thresh_vol, cmap='coolwarm', clim=vol.get_data_range())\n",
    "\n",
    "# Add the assay logs: use a tube filter that varius the radius by an attribute\n",
    "p.add_mesh(assay.tube(radius=3), cmap='viridis')\n",
    "\n",
    "p.show()"
   ]
  },
  {
   "cell_type": "code",
   "execution_count": null,
   "metadata": {},
   "outputs": [],
   "source": []
  }
 ],
 "metadata": {
  "kernelspec": {
   "display_name": "Python [conda env:dev]",
   "language": "python",
   "name": "dev"
  },
  "language_info": {
   "codemirror_mode": {
    "name": "ipython",
    "version": 3
   },
   "file_extension": ".py",
   "mimetype": "text/x-python",
   "name": "python",
   "nbconvert_exporter": "python",
   "pygments_lexer": "ipython3",
   "version": "3.7.2"
  }
 },
 "nbformat": 4,
 "nbformat_minor": 2
}
