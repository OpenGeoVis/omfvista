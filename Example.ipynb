{
 "cells": [
  {
   "cell_type": "markdown",
   "metadata": {},
   "source": [
    "# Using OMF-VTK Interfact\n",
    "\n",
    "This notebook demos how to load [OMF](https://omf.readthedocs.io/en/latest/) project files into VTK data objects. These data objects are converted using the [`omfvtk` Python package](https://github.com/OpenGeoVis/omfvtk) and visualized using [`vtki`](https://github.com/akaszynski/vtki).\n",
    "\n",
    "This requires:\n",
    "\n",
    "- `pip install omfvtk`"
   ]
  },
  {
   "cell_type": "code",
   "execution_count": 1,
   "metadata": {},
   "outputs": [],
   "source": [
    "import omfvtk\n",
    "import vtki"
   ]
  },
  {
   "cell_type": "markdown",
   "metadata": {},
   "source": [
    "## Open an OMF Project file\n",
    "\n",
    "The file given is a simple file from the [OMF Python package repository](https://github.com/gmggroup/omf/tree/master/assets). `omfvtk` opens the project and returns all elements of the Project as a `vtki.MultiBlock` data object that can be used for eay access and plotting."
   ]
  },
  {
   "cell_type": "code",
   "execution_count": 2,
   "metadata": {},
   "outputs": [
    {
     "data": {
      "text/html": [
       "<table><tr><th>Information</th><th>Blocks</th></tr><tr><td>\n",
       "<table>\n",
       "<tr><th>MultiBlock</th><th>Values</th></tr>\n",
       "<tr><td>N Blocks</td><td>9</td></tr>\n",
       "<tr><td>X Bounds</td><td>443941.105, 447059.611</td></tr>\n",
       "<tr><td>Y Bounds</td><td>491941.536, 495059.859</td></tr>\n",
       "<tr><td>Z Bounds</td><td>2330.000, 3555.942</td></tr>\n",
       "</table>\n",
       "\n",
       "</td><td>\n",
       "<table>\n",
       "<tr><th>Index</th><th>Name</th><th>Type</th></tr>\n",
       "<tr><th>0</th><th>collar</th><th>PolyData</th></tr>\n",
       "<tr><th>1</th><th>wolfpass_WP_assay</th><th>PolyData</th></tr>\n",
       "<tr><th>2</th><th>Topography</th><th>UnstructuredGrid</th></tr>\n",
       "<tr><th>3</th><th>Basement</th><th>UnstructuredGrid</th></tr>\n",
       "<tr><th>4</th><th>Early Diorite</th><th>UnstructuredGrid</th></tr>\n",
       "<tr><th>5</th><th>Intermineral diorite</th><th>UnstructuredGrid</th></tr>\n",
       "<tr><th>6</th><th>Dacite</th><th>UnstructuredGrid</th></tr>\n",
       "<tr><th>7</th><th>Cover</th><th>UnstructuredGrid</th></tr>\n",
       "<tr><th>8</th><th>Block Model</th><th>RectilinearGrid</th></tr>\n",
       "</table>\n",
       "\n",
       "</td></tr> </table>"
      ],
      "text/plain": [
       "(MultiBlock)0x11a43d708"
      ]
     },
     "execution_count": 2,
     "metadata": {},
     "output_type": "execute_result"
    }
   ],
   "source": [
    "proj = omfvtk.load_project('assets/test_file.omf')\n",
    "proj"
   ]
  },
  {
   "cell_type": "markdown",
   "metadata": {},
   "source": [
    "## Visualize the Project"
   ]
  },
  {
   "cell_type": "code",
   "execution_count": 3,
   "metadata": {},
   "outputs": [],
   "source": [
    "# NBVAL_SKIP\n",
    "# view all of it in 3D\n",
    "# proj.plot(notebook=False, show_edges=False)"
   ]
  },
  {
   "cell_type": "code",
   "execution_count": 4,
   "metadata": {},
   "outputs": [],
   "source": [
    "# Grab a few elements of interest and plot em up!\n",
    "assay = proj['wolfpass_WP_assay']\n",
    "topo = proj['Topography']\n",
    "dacite = proj['Dacite']\n",
    "vol = proj['Block Model']"
   ]
  },
  {
   "cell_type": "code",
   "execution_count": 5,
   "metadata": {},
   "outputs": [
    {
     "data": {
      "text/html": [
       "<table><tr><th>Header</th><th>Data Arrays</th></tr><tr><td>\n",
       "<table>\n",
       "<tr><th>PolyData</th><th>Information</th></tr>\n",
       "<tr><td>N Cells</td><td>8583</td></tr>\n",
       "<tr><td>N Points</td><td>8638</td></tr>\n",
       "<tr><td>X Bounds</td><td>4.448e+05, 4.457e+05</td></tr>\n",
       "<tr><td>Y Bounds</td><td>4.929e+05, 4.943e+05</td></tr>\n",
       "<tr><td>Z Bounds</td><td>2.383e+03, 3.245e+03</td></tr>\n",
       "<tr><td>N Scalars</td><td>11</td></tr>\n",
       "</table>\n",
       "\n",
       "</td><td>\n",
       "<table>\n",
       "<tr><th>Name</th><th>Field</th><th>Type</th><th>Min</th><th>Max</th></tr>\n",
       "<tr><td>Line Index</td><td>Cells</td><td>int32</td><td>0.000e+00</td><td>5.400e+01</td></tr>\n",
       "<tr><td>CU_pct</td><td>Cells</td><td>float64</td><td>2.000e-02</td><td>9.290e+00</td></tr>\n",
       "<tr><td><b>DENSITY</b></td><td>Cells</td><td>float64</td><td>0.000e+00</td><td>3.450e+00</td></tr>\n",
       "<tr><td>AG_gpt</td><td>Cells</td><td>float64</td><td>1.000e-02</td><td>5.050e+02</td></tr>\n",
       "<tr><td>AU_gpt</td><td>Cells</td><td>float64</td><td>1.000e-02</td><td>4.360e+01</td></tr>\n",
       "<tr><td>RECOV</td><td>Cells</td><td>float64</td><td>0.000e+00</td><td>9.850e+00</td></tr>\n",
       "<tr><td>S_pct</td><td>Cells</td><td>float64</td><td>-1.000e-02</td><td>2.400e+00</td></tr>\n",
       "<tr><td>MO_ppm</td><td>Cells</td><td>float64</td><td>2.000e-01</td><td>3.264e+03</td></tr>\n",
       "<tr><td>AS_ppm</td><td>Cells</td><td>float64</td><td>1.000e-01</td><td>3.508e+03</td></tr>\n",
       "<tr><td>Final_cut</td><td>Cells</td><td>int64</td><td>0.000e+00</td><td>2.000e+00</td></tr>\n",
       "<tr><td>holeid</td><td>Cells</td><td>int64</td><td>0.000e+00</td><td>5.400e+01</td></tr>\n",
       "</table>\n",
       "\n",
       "</td></tr> </table>"
      ],
      "text/plain": [
       "(PolyData)0x1185a4528"
      ]
     },
     "execution_count": 5,
     "metadata": {},
     "output_type": "execute_result"
    }
   ],
   "source": [
    "assay.set_active_scalar('DENSITY')\n",
    "assay"
   ]
  },
  {
   "cell_type": "code",
   "execution_count": 6,
   "metadata": {},
   "outputs": [
    {
     "data": {
      "application/vnd.jupyter.widget-view+json": {
       "model_id": "3f5c624180344f3389f644b6aba4549c",
       "version_major": 2,
       "version_minor": 0
      },
      "text/plain": [
       "interactive(children=(FloatSlider(value=1.0880420223950078, continuous_update=False, description='dmin', max=5…"
      ]
     },
     "metadata": {},
     "output_type": "display_data"
    }
   ],
   "source": [
    "# NBVAL_SKIP\n",
    "thresher = vtki.Threshold(vol, display_params={'show_edges':False, \n",
    "                                               'cmap':'coolwarm',})"
   ]
  },
  {
   "cell_type": "code",
   "execution_count": 7,
   "metadata": {},
   "outputs": [
    {
     "data": {
      "text/plain": [
       "(vtkRenderingAnnotationPython.vtkCubeAxesActor)0x11b4c03a8"
      ]
     },
     "execution_count": 7,
     "metadata": {},
     "output_type": "execute_result"
    }
   ],
   "source": [
    "# NBVAL_SKIP\n",
    "# Grab the active plotting window\n",
    "#  from the thresher tool\n",
    "p = thresher.plotter\n",
    "# Add the bounds axis\n",
    "p.add_bounds_axes()"
   ]
  },
  {
   "cell_type": "code",
   "execution_count": 8,
   "metadata": {},
   "outputs": [
    {
     "data": {
      "text/plain": [
       "(vtkRenderingOpenGL2Python.vtkOpenGLActor)0x11b4c07c8"
      ]
     },
     "execution_count": 8,
     "metadata": {},
     "output_type": "execute_result"
    }
   ],
   "source": [
    "# NBVAL_SKIP\n",
    "# Add our datasets\n",
    "p.add_mesh(topo, texture=True, show_edges=False, opacity=0.5, name='topo')\n",
    "p.add_mesh(assay, line_width=3, name='assay', cmap='viridis')\n",
    "p.add_mesh(dacite, show_edges=False, color='orange', opacity=0.6, name='dacite')"
   ]
  },
  {
   "cell_type": "code",
   "execution_count": 9,
   "metadata": {},
   "outputs": [],
   "source": [
    "# NBVAL_SKIP\n",
    "# Save a screenshot!\n",
    "# p.screenshot('wolfpass.png')"
   ]
  },
  {
   "cell_type": "code",
   "execution_count": 10,
   "metadata": {},
   "outputs": [],
   "source": [
    "# NBVAL_SKIP\n",
    "# Or share a 'vtkjs' web rendering\n",
    "# p.export_vtkjs('omf')"
   ]
  },
  {
   "cell_type": "markdown",
   "metadata": {},
   "source": [
    "![screenshot](wolfpass.png)"
   ]
  },
  {
   "cell_type": "code",
   "execution_count": null,
   "metadata": {},
   "outputs": [],
   "source": []
  }
 ],
 "metadata": {
  "kernelspec": {
   "display_name": "Python [conda env:ogv]",
   "language": "python",
   "name": "conda-env-ogv-py"
  },
  "language_info": {
   "codemirror_mode": {
    "name": "ipython",
    "version": 3
   },
   "file_extension": ".py",
   "mimetype": "text/x-python",
   "name": "python",
   "nbconvert_exporter": "python",
   "pygments_lexer": "ipython3",
   "version": "3.6.5"
  }
 },
 "nbformat": 4,
 "nbformat_minor": 2
}
